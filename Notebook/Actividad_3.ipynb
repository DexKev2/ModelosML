{
  "nbformat": 4,
  "nbformat_minor": 0,
  "metadata": {
    "colab": {
      "provenance": [],
      "include_colab_link": true
    },
    "kernelspec": {
      "name": "python3",
      "display_name": "Python 3"
    },
    "language_info": {
      "name": "python"
    }
  },
  "cells": [
    {
      "cell_type": "markdown",
      "metadata": {
        "id": "view-in-github",
        "colab_type": "text"
      },
      "source": [
        "<a href=\"https://colab.research.google.com/github/DexKev2/ModelosML/blob/main/Notebook/Actividad_3.ipynb\" target=\"_parent\"><img src=\"https://colab.research.google.com/assets/colab-badge.svg\" alt=\"Open In Colab\"/></a>"
      ]
    },
    {
      "cell_type": "code",
      "execution_count": 1,
      "metadata": {
        "id": "csn6vVcD07Nk"
      },
      "outputs": [],
      "source": [
        "import pandas as pd\n",
        "import numpy as np\n",
        "import matplotlib.pyplot as plt\n",
        "import seaborn as sns\n"
      ]
    },
    {
      "cell_type": "code",
      "source": [
        "# Define la ruta al archivo en tu Drive\n",
        "url = 'https://raw.githubusercontent.com/DexKev2/ModelosML/refs/heads/main/DataSet/Mushroom.csv'\n",
        "df = pd.read_csv(url)"
      ],
      "metadata": {
        "id": "Uh73QlZG1jHo"
      },
      "execution_count": 4,
      "outputs": []
    },
    {
      "cell_type": "code",
      "source": [
        "df.head(1)"
      ],
      "metadata": {
        "id": "7RqMqgCj2w2J",
        "colab": {
          "base_uri": "https://localhost:8080/",
          "height": 110
        },
        "outputId": "eb03c298-77ab-4726-8939-765beebd3ae4"
      },
      "execution_count": 5,
      "outputs": [
        {
          "output_type": "execute_result",
          "data": {
            "text/plain": [
              "   id CapShape CapSurf CapColor  Bruises    Odor GillAtt GillSpace GillSize  \\\n",
              "0   1   CONVEX  SMOOTH    WHITE  BRUISES  ALMOND    FREE   CROWDED   NARROW   \n",
              "\n",
              "  GillColor  ... ScolorAbove ScolorBelow VeilType VeilColor RingNum RingType  \\\n",
              "0     WHITE  ...       WHITE       WHITE  PARTIAL     WHITE     ONE  PENDANT   \n",
              "\n",
              "    Spore      Pop Habitat classes  \n",
              "0  PURPLE  SEVERAL   WOODS  EDIBLE  \n",
              "\n",
              "[1 rows x 24 columns]"
            ],
            "text/html": [
              "\n",
              "  <div id=\"df-692efeda-ceb5-48fd-ba9c-df505484e131\" class=\"colab-df-container\">\n",
              "    <div>\n",
              "<style scoped>\n",
              "    .dataframe tbody tr th:only-of-type {\n",
              "        vertical-align: middle;\n",
              "    }\n",
              "\n",
              "    .dataframe tbody tr th {\n",
              "        vertical-align: top;\n",
              "    }\n",
              "\n",
              "    .dataframe thead th {\n",
              "        text-align: right;\n",
              "    }\n",
              "</style>\n",
              "<table border=\"1\" class=\"dataframe\">\n",
              "  <thead>\n",
              "    <tr style=\"text-align: right;\">\n",
              "      <th></th>\n",
              "      <th>id</th>\n",
              "      <th>CapShape</th>\n",
              "      <th>CapSurf</th>\n",
              "      <th>CapColor</th>\n",
              "      <th>Bruises</th>\n",
              "      <th>Odor</th>\n",
              "      <th>GillAtt</th>\n",
              "      <th>GillSpace</th>\n",
              "      <th>GillSize</th>\n",
              "      <th>GillColor</th>\n",
              "      <th>...</th>\n",
              "      <th>ScolorAbove</th>\n",
              "      <th>ScolorBelow</th>\n",
              "      <th>VeilType</th>\n",
              "      <th>VeilColor</th>\n",
              "      <th>RingNum</th>\n",
              "      <th>RingType</th>\n",
              "      <th>Spore</th>\n",
              "      <th>Pop</th>\n",
              "      <th>Habitat</th>\n",
              "      <th>classes</th>\n",
              "    </tr>\n",
              "  </thead>\n",
              "  <tbody>\n",
              "    <tr>\n",
              "      <th>0</th>\n",
              "      <td>1</td>\n",
              "      <td>CONVEX</td>\n",
              "      <td>SMOOTH</td>\n",
              "      <td>WHITE</td>\n",
              "      <td>BRUISES</td>\n",
              "      <td>ALMOND</td>\n",
              "      <td>FREE</td>\n",
              "      <td>CROWDED</td>\n",
              "      <td>NARROW</td>\n",
              "      <td>WHITE</td>\n",
              "      <td>...</td>\n",
              "      <td>WHITE</td>\n",
              "      <td>WHITE</td>\n",
              "      <td>PARTIAL</td>\n",
              "      <td>WHITE</td>\n",
              "      <td>ONE</td>\n",
              "      <td>PENDANT</td>\n",
              "      <td>PURPLE</td>\n",
              "      <td>SEVERAL</td>\n",
              "      <td>WOODS</td>\n",
              "      <td>EDIBLE</td>\n",
              "    </tr>\n",
              "  </tbody>\n",
              "</table>\n",
              "<p>1 rows × 24 columns</p>\n",
              "</div>\n",
              "    <div class=\"colab-df-buttons\">\n",
              "\n",
              "  <div class=\"colab-df-container\">\n",
              "    <button class=\"colab-df-convert\" onclick=\"convertToInteractive('df-692efeda-ceb5-48fd-ba9c-df505484e131')\"\n",
              "            title=\"Convert this dataframe to an interactive table.\"\n",
              "            style=\"display:none;\">\n",
              "\n",
              "  <svg xmlns=\"http://www.w3.org/2000/svg\" height=\"24px\" viewBox=\"0 -960 960 960\">\n",
              "    <path d=\"M120-120v-720h720v720H120Zm60-500h600v-160H180v160Zm220 220h160v-160H400v160Zm0 220h160v-160H400v160ZM180-400h160v-160H180v160Zm440 0h160v-160H620v160ZM180-180h160v-160H180v160Zm440 0h160v-160H620v160Z\"/>\n",
              "  </svg>\n",
              "    </button>\n",
              "\n",
              "  <style>\n",
              "    .colab-df-container {\n",
              "      display:flex;\n",
              "      gap: 12px;\n",
              "    }\n",
              "\n",
              "    .colab-df-convert {\n",
              "      background-color: #E8F0FE;\n",
              "      border: none;\n",
              "      border-radius: 50%;\n",
              "      cursor: pointer;\n",
              "      display: none;\n",
              "      fill: #1967D2;\n",
              "      height: 32px;\n",
              "      padding: 0 0 0 0;\n",
              "      width: 32px;\n",
              "    }\n",
              "\n",
              "    .colab-df-convert:hover {\n",
              "      background-color: #E2EBFA;\n",
              "      box-shadow: 0px 1px 2px rgba(60, 64, 67, 0.3), 0px 1px 3px 1px rgba(60, 64, 67, 0.15);\n",
              "      fill: #174EA6;\n",
              "    }\n",
              "\n",
              "    .colab-df-buttons div {\n",
              "      margin-bottom: 4px;\n",
              "    }\n",
              "\n",
              "    [theme=dark] .colab-df-convert {\n",
              "      background-color: #3B4455;\n",
              "      fill: #D2E3FC;\n",
              "    }\n",
              "\n",
              "    [theme=dark] .colab-df-convert:hover {\n",
              "      background-color: #434B5C;\n",
              "      box-shadow: 0px 1px 3px 1px rgba(0, 0, 0, 0.15);\n",
              "      filter: drop-shadow(0px 1px 2px rgba(0, 0, 0, 0.3));\n",
              "      fill: #FFFFFF;\n",
              "    }\n",
              "  </style>\n",
              "\n",
              "    <script>\n",
              "      const buttonEl =\n",
              "        document.querySelector('#df-692efeda-ceb5-48fd-ba9c-df505484e131 button.colab-df-convert');\n",
              "      buttonEl.style.display =\n",
              "        google.colab.kernel.accessAllowed ? 'block' : 'none';\n",
              "\n",
              "      async function convertToInteractive(key) {\n",
              "        const element = document.querySelector('#df-692efeda-ceb5-48fd-ba9c-df505484e131');\n",
              "        const dataTable =\n",
              "          await google.colab.kernel.invokeFunction('convertToInteractive',\n",
              "                                                    [key], {});\n",
              "        if (!dataTable) return;\n",
              "\n",
              "        const docLinkHtml = 'Like what you see? Visit the ' +\n",
              "          '<a target=\"_blank\" href=https://colab.research.google.com/notebooks/data_table.ipynb>data table notebook</a>'\n",
              "          + ' to learn more about interactive tables.';\n",
              "        element.innerHTML = '';\n",
              "        dataTable['output_type'] = 'display_data';\n",
              "        await google.colab.output.renderOutput(dataTable, element);\n",
              "        const docLink = document.createElement('div');\n",
              "        docLink.innerHTML = docLinkHtml;\n",
              "        element.appendChild(docLink);\n",
              "      }\n",
              "    </script>\n",
              "  </div>\n",
              "\n",
              "\n",
              "    </div>\n",
              "  </div>\n"
            ],
            "application/vnd.google.colaboratory.intrinsic+json": {
              "type": "dataframe",
              "variable_name": "df"
            }
          },
          "metadata": {},
          "execution_count": 5
        }
      ]
    },
    {
      "cell_type": "code",
      "source": [],
      "metadata": {
        "id": "owsfCDtJgil9"
      },
      "execution_count": null,
      "outputs": []
    }
  ]
}